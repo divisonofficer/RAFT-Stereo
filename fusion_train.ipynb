{
 "cells": [
  {
   "cell_type": "code",
   "execution_count": null,
   "metadata": {},
   "outputs": [],
   "source": [
    "try:\n",
    "    from core.raft_stereo_fusion import RAFTStereoFusion\n",
    "except ImportError:\n",
    "    import os\n",
    "    os.chdir(\"/RAFT-Stereo\")\n",
    "    from core.raft_stereo_fusion import RAFTStereoFusion"
   ]
  },
  {
   "cell_type": "code",
   "execution_count": null,
   "metadata": {},
   "outputs": [],
   "source": [
    "from train_fusion.dataloader import StereoDataset\n",
    "\n",
    "import torch\n",
    "from torch import nn\n",
    "import numpy as np\n",
    "from torch.utils.data import DataLoader\n"
   ]
  },
  {
   "cell_type": "code",
   "execution_count": null,
   "metadata": {},
   "outputs": [],
   "source": [
    "from fusion_args import FusionArgs\n",
    "args = FusionArgs()\n",
    "args.hidden_dims = [128, 128, 128]\n",
    "args.corr_levels = 4\n",
    "args.corr_radius = 4\n",
    "args.n_downsample = 3\n",
    "args.context_norm = \"batch\"\n",
    "args.n_gru_layers = 2\n",
    "args.shared_backbone = True\n",
    "args.mixed_precision = True\n",
    "args.corr_implementation = \"reg_cuda\"\n",
    "args.slow_fast_gru = False\n",
    "args.restore_ckpt = \"models/raftstereo-realtime.pth\"\n",
    "\n",
    "\n",
    "args.lr = 0.001\n",
    "args.train_iters = 7\n",
    "args.valid_iters = 12\n",
    "args.wdecay = 0.0001\n",
    "args.num_steps = 100000\n",
    "args.valid_steps = 1000\n",
    "args.name = \"StereoFusion\"\n",
    "args.batch_size = 4\n",
    "args.fusion = \"AFF\"\n",
    "args.shared_fusion = True\n",
    "args.freeze_backbone = []\n",
    "args.both_side_train= True"
   ]
  },
  {
   "cell_type": "code",
   "execution_count": null,
   "metadata": {},
   "outputs": [],
   "source": [
    "dataset = StereoDataset(\"/bean/depth\", gt_depth=True, flying3d_json=True)\n",
    "#dataset = StereoDataset(\"/bean/depth\", real_data_json= True,flow3d_driving_json=False, gt_depth=False)\n",
    "\n",
    "train_size = int(0.95 * len(dataset))\n",
    "valid_size = len(dataset) - train_size\n",
    "train_dataset = dataset.partial(0, train_size)\n",
    "valid_dataset = dataset.partial(train_size, len(dataset))\n",
    "train_loader = DataLoader(train_dataset, batch_size=args.batch_size, shuffle=True, num_workers=4)\n",
    "valid_loader = DataLoader(valid_dataset, batch_size=args.batch_size, shuffle=False, num_workers=4)\n",
    "from core.utils.utils import InputPadder\n",
    "\n",
    "#train_loader = DataLoader(StereoDataset(\"/bean/depth/08-01-19-37-50\", flow3d_driving_json=True, gt_depth=True), batch_size=args.batch_size, shuffle=True, num_workers=4)"
   ]
  },
  {
   "cell_type": "code",
   "execution_count": null,
   "metadata": {},
   "outputs": [],
   "source": [
    "model = nn.DataParallel(RAFTStereoFusion(args)).cuda()\n",
    "\n",
    "model.load_state_dict(torch.load(args.restore_ckpt), strict=False)\n",
    "model.train()"
   ]
  },
  {
   "cell_type": "code",
   "execution_count": null,
   "metadata": {},
   "outputs": [],
   "source": [
    "from tqdm.notebook import tqdm\n",
    "from train_fusion.train import train, self_supervised_real_batch, flow_gt_batch\n",
    "from train_fusion.loss_function import self_supervised_loss, self_fm_loss, gt_loss\n",
    "\n",
    "train(\n",
    "    args = args, \n",
    "    model = model, \n",
    "    train_loader = train_loader, \n",
    "    valid_loader = valid_loader, \n",
    "    tqdm = tqdm, \n",
    "    batch_loader_function=flow_gt_batch, \n",
    "    loss_function = gt_loss\n",
    ")"
   ]
  },
  {
   "cell_type": "code",
   "execution_count": null,
   "metadata": {},
   "outputs": [],
   "source": [
    "from visualize.batch_input_visualize import batch_input_visualize\n",
    "\n",
    "iterator = iter(valid_loader)\n",
    "batch_input_visualize(next(iterator))"
   ]
  },
  {
   "cell_type": "code",
   "execution_count": null,
   "metadata": {},
   "outputs": [],
   "source": [
    "from datastructure.train_input import TrainInput\n",
    "from visualize.batch_input_visualize import batch_input_visualize\n",
    "from core.utils.utils import InputPadder\n",
    "import cv2\n",
    "from train_fusion.loss_function import warp_reproject_loss, reproject_disparity\n",
    "iterator = iter(valid_loader)\n",
    "inputs = next(iterator)\n",
    "image0, image1, image2, image3, dis1, dis2 = [x.cuda() for x in inputs[1:]]\n",
    "with torch.no_grad():\n",
    "    _, flow = model(TrainInput(\n",
    "            {\n",
    "                \"image_viz_left\": image0,\n",
    "                \"image_viz_right\": image1,\n",
    "                \"image_nir_left\": image2,\n",
    "                \"image_nir_right\": image3,\n",
    "                \"iters\": args.train_iters,\n",
    "                \"test_mode\": True,\n",
    "                \"flow_init\": None,\n",
    "                \"heuristic_nir\": False,\n",
    "            }\n",
    "        ).data_dict)\n",
    "print(inputs[1].shape, flow.shape)\n",
    "batch_input_visualize(inputs, flow)\n"
   ]
  }
 ],
 "metadata": {
  "kernelspec": {
   "display_name": "Python 3",
   "language": "python",
   "name": "python3"
  },
  "language_info": {
   "codemirror_mode": {
    "name": "ipython",
    "version": 3
   },
   "file_extension": ".py",
   "mimetype": "text/x-python",
   "name": "python",
   "nbconvert_exporter": "python",
   "pygments_lexer": "ipython3",
   "version": "3.10.12"
  }
 },
 "nbformat": 4,
 "nbformat_minor": 2
}
